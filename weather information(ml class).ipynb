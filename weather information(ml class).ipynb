{
 "cells": [
  {
   "cell_type": "code",
   "execution_count": 1,
   "id": "9c108965",
   "metadata": {},
   "outputs": [],
   "source": [
    "import requests"
   ]
  },
  {
   "cell_type": "code",
   "execution_count": 2,
   "id": "883a5671",
   "metadata": {},
   "outputs": [],
   "source": [
    "api_key='d255a431e1a5d1072fcb3139621b3d06'"
   ]
  },
  {
   "cell_type": "code",
   "execution_count": 28,
   "id": "e693591a",
   "metadata": {},
   "outputs": [],
   "source": [
    "city_name='Mumbai'"
   ]
  },
  {
   "cell_type": "code",
   "execution_count": 29,
   "id": "17bae7c8",
   "metadata": {},
   "outputs": [],
   "source": [
    "url=f'http://api.openweathermap.org/data/2.5/weather?q={city_name}&appid={api_key}&units=metric'\n",
    "response=requests.get(url)"
   ]
  },
  {
   "cell_type": "code",
   "execution_count": 30,
   "id": "f24d077d",
   "metadata": {},
   "outputs": [],
   "source": [
    "if response.status_code!=200:\n",
    "    print('Error:',response.text)\n",
    "    exit()"
   ]
  },
  {
   "cell_type": "code",
   "execution_count": 31,
   "id": "b98291f8",
   "metadata": {},
   "outputs": [
    {
     "name": "stdout",
     "output_type": "stream",
     "text": [
      "Temperature:29.99C\n",
      "Description:mist\n"
     ]
    }
   ],
   "source": [
    "weather_data=response.json()\n",
    "temperature=weather_data['main']['temp']\n",
    "description=weather_data['weather'][0]['description']\n",
    "\n",
    "print(f'Temperature:{temperature}C')\n",
    "print(f'Description:{description}')"
   ]
  },
  {
   "cell_type": "code",
   "execution_count": null,
   "id": "3af0c98f",
   "metadata": {},
   "outputs": [],
   "source": []
  }
 ],
 "metadata": {
  "kernelspec": {
   "display_name": "Python 3 (ipykernel)",
   "language": "python",
   "name": "python3"
  },
  "language_info": {
   "codemirror_mode": {
    "name": "ipython",
    "version": 3
   },
   "file_extension": ".py",
   "mimetype": "text/x-python",
   "name": "python",
   "nbconvert_exporter": "python",
   "pygments_lexer": "ipython3",
   "version": "3.10.9"
  }
 },
 "nbformat": 4,
 "nbformat_minor": 5
}
