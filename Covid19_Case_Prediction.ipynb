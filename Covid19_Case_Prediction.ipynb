{
 "cells": [
  {
   "cell_type": "code",
   "execution_count": 1,
   "id": "3aff2c54",
   "metadata": {},
   "outputs": [],
   "source": [
    "import pandas as pd\n",
    "import numpy as np\n",
    "import matplotlib.pyplot as plt\n"
   ]
  },
  {
   "cell_type": "code",
   "execution_count": 22,
   "id": "04fe4b77",
   "metadata": {},
   "outputs": [
    {
     "name": "stdout",
     "output_type": "stream",
     "text": [
      "Requirement already satisfied: scikit-learn in c:\\users\\inevi\\anaconda3\\lib\\site-packages (1.2.1)\n",
      "Requirement already satisfied: threadpoolctl>=2.0.0 in c:\\users\\inevi\\anaconda3\\lib\\site-packages (from scikit-learn) (2.2.0)\n",
      "Requirement already satisfied: scipy>=1.3.2 in c:\\users\\inevi\\anaconda3\\lib\\site-packages (from scikit-learn) (1.10.0)\n",
      "Requirement already satisfied: numpy>=1.17.3 in c:\\users\\inevi\\anaconda3\\lib\\site-packages (from scikit-learn) (1.23.5)\n",
      "Requirement already satisfied: joblib>=1.1.1 in c:\\users\\inevi\\anaconda3\\lib\\site-packages (from scikit-learn) (1.1.1)\n"
     ]
    }
   ],
   "source": [
    "!pip install scikit-learn\n",
    "from sklearn.preprocessing import PolynomialFeatures\n",
    "from sklearn import linear_model"
   ]
  },
  {
   "cell_type": "code",
   "execution_count": 23,
   "id": "ad79b493",
   "metadata": {},
   "outputs": [],
   "source": [
    "data=pd.read_csv('RAIPUR_CORONAVIRUS_CASES.CSV',sep=',')"
   ]
  },
  {
   "cell_type": "code",
   "execution_count": 24,
   "id": "fb08e0b7",
   "metadata": {},
   "outputs": [
    {
     "data": {
      "text/html": [
       "<div>\n",
       "<style scoped>\n",
       "    .dataframe tbody tr th:only-of-type {\n",
       "        vertical-align: middle;\n",
       "    }\n",
       "\n",
       "    .dataframe tbody tr th {\n",
       "        vertical-align: top;\n",
       "    }\n",
       "\n",
       "    .dataframe thead th {\n",
       "        text-align: right;\n",
       "    }\n",
       "</style>\n",
       "<table border=\"1\" class=\"dataframe\">\n",
       "  <thead>\n",
       "    <tr style=\"text-align: right;\">\n",
       "      <th></th>\n",
       "      <th>ID</th>\n",
       "      <th>Total_CASES</th>\n",
       "    </tr>\n",
       "  </thead>\n",
       "  <tbody>\n",
       "    <tr>\n",
       "      <th>0</th>\n",
       "      <td>1</td>\n",
       "      <td>1</td>\n",
       "    </tr>\n",
       "    <tr>\n",
       "      <th>1</th>\n",
       "      <td>2</td>\n",
       "      <td>1</td>\n",
       "    </tr>\n",
       "    <tr>\n",
       "      <th>2</th>\n",
       "      <td>3</td>\n",
       "      <td>1</td>\n",
       "    </tr>\n",
       "    <tr>\n",
       "      <th>3</th>\n",
       "      <td>4</td>\n",
       "      <td>1</td>\n",
       "    </tr>\n",
       "    <tr>\n",
       "      <th>4</th>\n",
       "      <td>5</td>\n",
       "      <td>1</td>\n",
       "    </tr>\n",
       "    <tr>\n",
       "      <th>...</th>\n",
       "      <td>...</td>\n",
       "      <td>...</td>\n",
       "    </tr>\n",
       "    <tr>\n",
       "      <th>128</th>\n",
       "      <td>129</td>\n",
       "      <td>27096</td>\n",
       "    </tr>\n",
       "    <tr>\n",
       "      <th>129</th>\n",
       "      <td>130</td>\n",
       "      <td>29283</td>\n",
       "    </tr>\n",
       "    <tr>\n",
       "      <th>130</th>\n",
       "      <td>131</td>\n",
       "      <td>31649</td>\n",
       "    </tr>\n",
       "    <tr>\n",
       "      <th>131</th>\n",
       "      <td>132</td>\n",
       "      <td>34173</td>\n",
       "    </tr>\n",
       "    <tr>\n",
       "      <th>132</th>\n",
       "      <td>133</td>\n",
       "      <td>36832</td>\n",
       "    </tr>\n",
       "  </tbody>\n",
       "</table>\n",
       "<p>133 rows × 2 columns</p>\n",
       "</div>"
      ],
      "text/plain": [
       "      ID  Total_CASES\n",
       "0      1            1\n",
       "1      2            1\n",
       "2      3            1\n",
       "3      4            1\n",
       "4      5            1\n",
       "..   ...          ...\n",
       "128  129        27096\n",
       "129  130        29283\n",
       "130  131        31649\n",
       "131  132        34173\n",
       "132  133        36832\n",
       "\n",
       "[133 rows x 2 columns]"
      ]
     },
     "execution_count": 24,
     "metadata": {},
     "output_type": "execute_result"
    }
   ],
   "source": [
    "data"
   ]
  },
  {
   "cell_type": "code",
   "execution_count": 25,
   "id": "8f5f5cf1",
   "metadata": {},
   "outputs": [],
   "source": [
    "data=data[['ID','Total_CASES']]"
   ]
  },
  {
   "cell_type": "code",
   "execution_count": 26,
   "id": "fedffd6e",
   "metadata": {},
   "outputs": [
    {
     "data": {
      "text/html": [
       "<div>\n",
       "<style scoped>\n",
       "    .dataframe tbody tr th:only-of-type {\n",
       "        vertical-align: middle;\n",
       "    }\n",
       "\n",
       "    .dataframe tbody tr th {\n",
       "        vertical-align: top;\n",
       "    }\n",
       "\n",
       "    .dataframe thead th {\n",
       "        text-align: right;\n",
       "    }\n",
       "</style>\n",
       "<table border=\"1\" class=\"dataframe\">\n",
       "  <thead>\n",
       "    <tr style=\"text-align: right;\">\n",
       "      <th></th>\n",
       "      <th>ID</th>\n",
       "      <th>Total_CASES</th>\n",
       "    </tr>\n",
       "  </thead>\n",
       "  <tbody>\n",
       "    <tr>\n",
       "      <th>0</th>\n",
       "      <td>1</td>\n",
       "      <td>1</td>\n",
       "    </tr>\n",
       "    <tr>\n",
       "      <th>1</th>\n",
       "      <td>2</td>\n",
       "      <td>1</td>\n",
       "    </tr>\n",
       "    <tr>\n",
       "      <th>2</th>\n",
       "      <td>3</td>\n",
       "      <td>1</td>\n",
       "    </tr>\n",
       "    <tr>\n",
       "      <th>3</th>\n",
       "      <td>4</td>\n",
       "      <td>1</td>\n",
       "    </tr>\n",
       "    <tr>\n",
       "      <th>4</th>\n",
       "      <td>5</td>\n",
       "      <td>1</td>\n",
       "    </tr>\n",
       "    <tr>\n",
       "      <th>...</th>\n",
       "      <td>...</td>\n",
       "      <td>...</td>\n",
       "    </tr>\n",
       "    <tr>\n",
       "      <th>128</th>\n",
       "      <td>129</td>\n",
       "      <td>27096</td>\n",
       "    </tr>\n",
       "    <tr>\n",
       "      <th>129</th>\n",
       "      <td>130</td>\n",
       "      <td>29283</td>\n",
       "    </tr>\n",
       "    <tr>\n",
       "      <th>130</th>\n",
       "      <td>131</td>\n",
       "      <td>31649</td>\n",
       "    </tr>\n",
       "    <tr>\n",
       "      <th>131</th>\n",
       "      <td>132</td>\n",
       "      <td>34173</td>\n",
       "    </tr>\n",
       "    <tr>\n",
       "      <th>132</th>\n",
       "      <td>133</td>\n",
       "      <td>36832</td>\n",
       "    </tr>\n",
       "  </tbody>\n",
       "</table>\n",
       "<p>133 rows × 2 columns</p>\n",
       "</div>"
      ],
      "text/plain": [
       "      ID  Total_CASES\n",
       "0      1            1\n",
       "1      2            1\n",
       "2      3            1\n",
       "3      4            1\n",
       "4      5            1\n",
       "..   ...          ...\n",
       "128  129        27096\n",
       "129  130        29283\n",
       "130  131        31649\n",
       "131  132        34173\n",
       "132  133        36832\n",
       "\n",
       "[133 rows x 2 columns]"
      ]
     },
     "execution_count": 26,
     "metadata": {},
     "output_type": "execute_result"
    }
   ],
   "source": [
    "data"
   ]
  },
  {
   "cell_type": "code",
   "execution_count": 27,
   "id": "0eb161a4",
   "metadata": {},
   "outputs": [
    {
     "data": {
      "text/html": [
       "<div>\n",
       "<style scoped>\n",
       "    .dataframe tbody tr th:only-of-type {\n",
       "        vertical-align: middle;\n",
       "    }\n",
       "\n",
       "    .dataframe tbody tr th {\n",
       "        vertical-align: top;\n",
       "    }\n",
       "\n",
       "    .dataframe thead th {\n",
       "        text-align: right;\n",
       "    }\n",
       "</style>\n",
       "<table border=\"1\" class=\"dataframe\">\n",
       "  <thead>\n",
       "    <tr style=\"text-align: right;\">\n",
       "      <th></th>\n",
       "      <th>ID</th>\n",
       "      <th>Total_CASES</th>\n",
       "    </tr>\n",
       "  </thead>\n",
       "  <tbody>\n",
       "    <tr>\n",
       "      <th>0</th>\n",
       "      <td>1</td>\n",
       "      <td>1</td>\n",
       "    </tr>\n",
       "    <tr>\n",
       "      <th>1</th>\n",
       "      <td>2</td>\n",
       "      <td>1</td>\n",
       "    </tr>\n",
       "    <tr>\n",
       "      <th>2</th>\n",
       "      <td>3</td>\n",
       "      <td>1</td>\n",
       "    </tr>\n",
       "    <tr>\n",
       "      <th>3</th>\n",
       "      <td>4</td>\n",
       "      <td>1</td>\n",
       "    </tr>\n",
       "    <tr>\n",
       "      <th>4</th>\n",
       "      <td>5</td>\n",
       "      <td>1</td>\n",
       "    </tr>\n",
       "  </tbody>\n",
       "</table>\n",
       "</div>"
      ],
      "text/plain": [
       "   ID  Total_CASES\n",
       "0   1            1\n",
       "1   2            1\n",
       "2   3            1\n",
       "3   4            1\n",
       "4   5            1"
      ]
     },
     "execution_count": 27,
     "metadata": {},
     "output_type": "execute_result"
    }
   ],
   "source": [
    "data.head(5)"
   ]
  },
  {
   "cell_type": "code",
   "execution_count": 28,
   "id": "a7cb42d5",
   "metadata": {},
   "outputs": [
    {
     "data": {
      "text/html": [
       "<div>\n",
       "<style scoped>\n",
       "    .dataframe tbody tr th:only-of-type {\n",
       "        vertical-align: middle;\n",
       "    }\n",
       "\n",
       "    .dataframe tbody tr th {\n",
       "        vertical-align: top;\n",
       "    }\n",
       "\n",
       "    .dataframe thead th {\n",
       "        text-align: right;\n",
       "    }\n",
       "</style>\n",
       "<table border=\"1\" class=\"dataframe\">\n",
       "  <thead>\n",
       "    <tr style=\"text-align: right;\">\n",
       "      <th></th>\n",
       "      <th>ID</th>\n",
       "      <th>Total_CASES</th>\n",
       "    </tr>\n",
       "  </thead>\n",
       "  <tbody>\n",
       "    <tr>\n",
       "      <th>128</th>\n",
       "      <td>129</td>\n",
       "      <td>27096</td>\n",
       "    </tr>\n",
       "    <tr>\n",
       "      <th>129</th>\n",
       "      <td>130</td>\n",
       "      <td>29283</td>\n",
       "    </tr>\n",
       "    <tr>\n",
       "      <th>130</th>\n",
       "      <td>131</td>\n",
       "      <td>31649</td>\n",
       "    </tr>\n",
       "    <tr>\n",
       "      <th>131</th>\n",
       "      <td>132</td>\n",
       "      <td>34173</td>\n",
       "    </tr>\n",
       "    <tr>\n",
       "      <th>132</th>\n",
       "      <td>133</td>\n",
       "      <td>36832</td>\n",
       "    </tr>\n",
       "  </tbody>\n",
       "</table>\n",
       "</div>"
      ],
      "text/plain": [
       "      ID  Total_CASES\n",
       "128  129        27096\n",
       "129  130        29283\n",
       "130  131        31649\n",
       "131  132        34173\n",
       "132  133        36832"
      ]
     },
     "execution_count": 28,
     "metadata": {},
     "output_type": "execute_result"
    }
   ],
   "source": [
    "data.tail(5)"
   ]
  },
  {
   "cell_type": "code",
   "execution_count": 29,
   "id": "f4c81fc3",
   "metadata": {},
   "outputs": [],
   "source": [
    "#changing format (array)\n",
    "\n",
    "x=np.array(data['ID']).reshape(-1,1)\n",
    "y=np.array(data['Total_CASES']).reshape(-1,1)"
   ]
  },
  {
   "cell_type": "code",
   "execution_count": 30,
   "id": "ae3bc111",
   "metadata": {},
   "outputs": [
    {
     "data": {
      "image/png": "[encoded data removed]",
      "text/plain": [
       "<Figure size 640x480 with 1 Axes>"
      ]
     },
     "metadata": {},
     "output_type": "display_data"
    }
   ],
   "source": [
    "#plotting graph\n",
    "\n",
    "plt.plot(y,'-')\n",
    "plt.show()"
   ]
  },
  {
   "cell_type": "code",
   "execution_count": 31,
   "id": "49eb5853",
   "metadata": {},
   "outputs": [],
   "source": [
    "#polynomial regression\n",
    "\n",
    "Poly=PolynomialFeatures(degree=6)\n",
    "x=Poly.fit_transform(x)"
   ]
  },
  {
   "cell_type": "code",
   "execution_count": 32,
   "id": "13ae2dcc",
   "metadata": {},
   "outputs": [
    {
     "data": {
      "text/plain": [
       "array([[1.00000000e+00, 1.00000000e+00, 1.00000000e+00, 1.00000000e+00,\n",
       "        1.00000000e+00, 1.00000000e+00, 1.00000000e+00],\n",
       "       [1.00000000e+00, 2.00000000e+00, 4.00000000e+00, 8.00000000e+00,\n",
       "        1.60000000e+01, 3.20000000e+01, 6.40000000e+01],\n",
       "       [1.00000000e+00, 3.00000000e+00, 9.00000000e+00, 2.70000000e+01,\n",
       "        8.10000000e+01, 2.43000000e+02, 7.29000000e+02],\n",
       "       [1.00000000e+00, 4.00000000e+00, 1.60000000e+01, 6.40000000e+01,\n",
       "        2.56000000e+02, 1.02400000e+03, 4.09600000e+03],\n",
       "       [1.00000000e+00, 5.00000000e+00, 2.50000000e+01, 1.25000000e+02,\n",
       "        6.25000000e+02, 3.12500000e+03, 1.56250000e+04],\n",
       "       [1.00000000e+00, 6.00000000e+00, 3.60000000e+01, 2.16000000e+02,\n",
       "        1.29600000e+03, 7.77600000e+03, 4.66560000e+04],\n",
       "       [1.00000000e+00, 7.00000000e+00, 4.90000000e+01, 3.43000000e+02,\n",
       "        2.40100000e+03, 1.68070000e+04, 1.17649000e+05],\n",
       "       [1.00000000e+00, 8.00000000e+00, 6.40000000e+01, 5.12000000e+02,\n",
       "        4.09600000e+03, 3.27680000e+04, 2.62144000e+05],\n",
       "       [1.00000000e+00, 9.00000000e+00, 8.10000000e+01, 7.29000000e+02,\n",
       "        6.56100000e+03, 5.90490000e+04, 5.31441000e+05],\n",
       "       [1.00000000e+00, 1.00000000e+01, 1.00000000e+02, 1.00000000e+03,\n",
       "        1.00000000e+04, 1.00000000e+05, 1.00000000e+06],\n",
       "       [1.00000000e+00, 1.10000000e+01, 1.21000000e+02, 1.33100000e+03,\n",
       "        1.46410000e+04, 1.61051000e+05, 1.77156100e+06],\n",
       "       [1.00000000e+00, 1.20000000e+01, 1.44000000e+02, 1.72800000e+03,\n",
       "        2.07360000e+04, 2.48832000e+05, 2.98598400e+06],\n",
       "       [1.00000000e+00, 1.30000000e+01, 1.69000000e+02, 2.19700000e+03,\n",
       "        2.85610000e+04, 3.71293000e+05, 4.82680900e+06],\n",
       "       [1.00000000e+00, 1.40000000e+01, 1.96000000e+02, 2.74400000e+03,\n",
       "        3.84160000e+04, 5.37824000e+05, 7.52953600e+06],\n",
       "       [1.00000000e+00, 1.50000000e+01, 2.25000000e+02, 3.37500000e+03,\n",
       "        5.06250000e+04, 7.59375000e+05, 1.13906250e+07],\n",
       "       [1.00000000e+00, 1.60000000e+01, 2.56000000e+02, 4.09600000e+03,\n",
       "        6.55360000e+04, 1.04857600e+06, 1.67772160e+07],\n",
       "       [1.00000000e+00, 1.70000000e+01, 2.89000000e+02, 4.91300000e+03,\n",
       "        8.35210000e+04, 1.41985700e+06, 2.41375690e+07],\n",
       "       [1.00000000e+00, 1.80000000e+01, 3.24000000e+02, 5.83200000e+03,\n",
       "        1.04976000e+05, 1.88956800e+06, 3.40122240e+07],\n",
       "       [1.00000000e+00, 1.90000000e+01, 3.61000000e+02, 6.85900000e+03,\n",
       "        1.30321000e+05, 2.47609900e+06, 4.70458810e+07],\n",
       "       [1.00000000e+00, 2.00000000e+01, 4.00000000e+02, 8.00000000e+03,\n",
       "        1.60000000e+05, 3.20000000e+06, 6.40000000e+07],\n",
       "       [1.00000000e+00, 2.10000000e+01, 4.41000000e+02, 9.26100000e+03,\n",
       "        1.94481000e+05, 4.08410100e+06, 8.57661210e+07],\n",
       "       [1.00000000e+00, 2.20000000e+01, 4.84000000e+02, 1.06480000e+04,\n",
       "        2.34256000e+05, 5.15363200e+06, 1.13379904e+08],\n",
       "       [1.00000000e+00, 2.30000000e+01, 5.29000000e+02, 1.21670000e+04,\n",
       "        2.79841000e+05, 6.43634300e+06, 1.48035889e+08],\n",
       "       [1.00000000e+00, 2.40000000e+01, 5.76000000e+02, 1.38240000e+04,\n",
       "        3.31776000e+05, 7.96262400e+06, 1.91102976e+08],\n",
       "       [1.00000000e+00, 2.50000000e+01, 6.25000000e+02, 1.56250000e+04,\n",
       "        3.90625000e+05, 9.76562500e+06, 2.44140625e+08],\n",
       "       [1.00000000e+00, 2.60000000e+01, 6.76000000e+02, 1.75760000e+04,\n",
       "        4.56976000e+05, 1.18813760e+07, 3.08915776e+08],\n",
       "       [1.00000000e+00, 2.70000000e+01, 7.29000000e+02, 1.96830000e+04,\n",
       "        5.31441000e+05, 1.43489070e+07, 3.87420489e+08],\n",
       "       [1.00000000e+00, 2.80000000e+01, 7.84000000e+02, 2.19520000e+04,\n",
       "        6.14656000e+05, 1.72103680e+07, 4.81890304e+08],\n",
       "       [1.00000000e+00, 2.90000000e+01, 8.41000000e+02, 2.43890000e+04,\n",
       "        7.07281000e+05, 2.05111490e+07, 5.94823321e+08],\n",
       "       [1.00000000e+00, 3.00000000e+01, 9.00000000e+02, 2.70000000e+04,\n",
       "        8.10000000e+05, 2.43000000e+07, 7.29000000e+08],\n",
       "       [1.00000000e+00, 3.10000000e+01, 9.61000000e+02, 2.97910000e+04,\n",
       "        9.23521000e+05, 2.86291510e+07, 8.87503681e+08],\n",
       "       [1.00000000e+00, 3.20000000e+01, 1.02400000e+03, 3.27680000e+04,\n",
       "        1.04857600e+06, 3.35544320e+07, 1.07374182e+09],\n",
       "       [1.00000000e+00, 3.30000000e+01, 1.08900000e+03, 3.59370000e+04,\n",
       "        1.18592100e+06, 3.91353930e+07, 1.29146797e+09],\n",
       "       [1.00000000e+00, 3.40000000e+01, 1.15600000e+03, 3.93040000e+04,\n",
       "        1.33633600e+06, 4.54354240e+07, 1.54480442e+09],\n",
       "       [1.00000000e+00, 3.50000000e+01, 1.22500000e+03, 4.28750000e+04,\n",
       "        1.50062500e+06, 5.25218750e+07, 1.83826562e+09],\n",
       "       [1.00000000e+00, 3.60000000e+01, 1.29600000e+03, 4.66560000e+04,\n",
       "        1.67961600e+06, 6.04661760e+07, 2.17678234e+09],\n",
       "       [1.00000000e+00, 3.70000000e+01, 1.36900000e+03, 5.06530000e+04,\n",
       "        1.87416100e+06, 6.93439570e+07, 2.56572641e+09],\n",
       "       [1.00000000e+00, 3.80000000e+01, 1.44400000e+03, 5.48720000e+04,\n",
       "        2.08513600e+06, 7.92351680e+07, 3.01093638e+09],\n",
       "       [1.00000000e+00, 3.90000000e+01, 1.52100000e+03, 5.93190000e+04,\n",
       "        2.31344100e+06, 9.02241990e+07, 3.51874376e+09],\n",
       "       [1.00000000e+00, 4.00000000e+01, 1.60000000e+03, 6.40000000e+04,\n",
       "        2.56000000e+06, 1.02400000e+08, 4.09600000e+09],\n",
       "       [1.00000000e+00, 4.10000000e+01, 1.68100000e+03, 6.89210000e+04,\n",
       "        2.82576100e+06, 1.15856201e+08, 4.75010424e+09],\n",
       "       [1.00000000e+00, 4.20000000e+01, 1.76400000e+03, 7.40880000e+04,\n",
       "        3.11169600e+06, 1.30691232e+08, 5.48903174e+09],\n",
       "       [1.00000000e+00, 4.30000000e+01, 1.84900000e+03, 7.95070000e+04,\n",
       "        3.41880100e+06, 1.47008443e+08, 6.32136305e+09],\n",
       "       [1.00000000e+00, 4.40000000e+01, 1.93600000e+03, 8.51840000e+04,\n",
       "        3.74809600e+06, 1.64916224e+08, 7.25631386e+09],\n",
       "       [1.00000000e+00, 4.50000000e+01, 2.02500000e+03, 9.11250000e+04,\n",
       "        4.10062500e+06, 1.84528125e+08, 8.30376562e+09],\n",
       "       [1.00000000e+00, 4.60000000e+01, 2.11600000e+03, 9.73360000e+04,\n",
       "        4.47745600e+06, 2.05962976e+08, 9.47429690e+09],\n",
       "       [1.00000000e+00, 4.70000000e+01, 2.20900000e+03, 1.03823000e+05,\n",
       "        4.87968100e+06, 2.29345007e+08, 1.07792153e+10],\n",
       "       [1.00000000e+00, 4.80000000e+01, 2.30400000e+03, 1.10592000e+05,\n",
       "        5.30841600e+06, 2.54803968e+08, 1.22305905e+10],\n",
       "       [1.00000000e+00, 4.90000000e+01, 2.40100000e+03, 1.17649000e+05,\n",
       "        5.76480100e+06, 2.82475249e+08, 1.38412872e+10],\n",
       "       [1.00000000e+00, 5.00000000e+01, 2.50000000e+03, 1.25000000e+05,\n",
       "        6.25000000e+06, 3.12500000e+08, 1.56250000e+10],\n",
       "       [1.00000000e+00, 5.10000000e+01, 2.60100000e+03, 1.32651000e+05,\n",
       "        6.76520100e+06, 3.45025251e+08, 1.75962878e+10],\n",
       "       [1.00000000e+00, 5.20000000e+01, 2.70400000e+03, 1.40608000e+05,\n",
       "        7.31161600e+06, 3.80204032e+08, 1.97706097e+10],\n",
       "       [1.00000000e+00, 5.30000000e+01, 2.80900000e+03, 1.48877000e+05,\n",
       "        7.89048100e+06, 4.18195493e+08, 2.21643611e+10],\n",
       "       [1.00000000e+00, 5.40000000e+01, 2.91600000e+03, 1.57464000e+05,\n",
       "        8.50305600e+06, 4.59165024e+08, 2.47949113e+10],\n",
       "       [1.00000000e+00, 5.50000000e+01, 3.02500000e+03, 1.66375000e+05,\n",
       "        9.15062500e+06, 5.03284375e+08, 2.76806406e+10],\n",
       "       [1.00000000e+00, 5.60000000e+01, 3.13600000e+03, 1.75616000e+05,\n",
       "        9.83449600e+06, 5.50731776e+08, 3.08409795e+10],\n",
       "       [1.00000000e+00, 5.70000000e+01, 3.24900000e+03, 1.85193000e+05,\n",
       "        1.05560010e+07, 6.01692057e+08, 3.42964472e+10],\n",
       "       [1.00000000e+00, 5.80000000e+01, 3.36400000e+03, 1.95112000e+05,\n",
       "        1.13164960e+07, 6.56356768e+08, 3.80686925e+10],\n",
       "       [1.00000000e+00, 5.90000000e+01, 3.48100000e+03, 2.05379000e+05,\n",
       "        1.21173610e+07, 7.14924299e+08, 4.21805336e+10],\n",
       "       [1.00000000e+00, 6.00000000e+01, 3.60000000e+03, 2.16000000e+05,\n",
       "        1.29600000e+07, 7.77600000e+08, 4.66560000e+10],\n",
       "       [1.00000000e+00, 6.10000000e+01, 3.72100000e+03, 2.26981000e+05,\n",
       "        1.38458410e+07, 8.44596301e+08, 5.15203744e+10],\n",
       "       [1.00000000e+00, 6.20000000e+01, 3.84400000e+03, 2.38328000e+05,\n",
       "        1.47763360e+07, 9.16132832e+08, 5.68002356e+10],\n",
       "       [1.00000000e+00, 6.30000000e+01, 3.96900000e+03, 2.50047000e+05,\n",
       "        1.57529610e+07, 9.92436543e+08, 6.25235022e+10],\n",
       "       [1.00000000e+00, 6.40000000e+01, 4.09600000e+03, 2.62144000e+05,\n",
       "        1.67772160e+07, 1.07374182e+09, 6.87194767e+10],\n",
       "       [1.00000000e+00, 6.50000000e+01, 4.22500000e+03, 2.74625000e+05,\n",
       "        1.78506250e+07, 1.16029062e+09, 7.54188906e+10],\n",
       "       [1.00000000e+00, 6.60000000e+01, 4.35600000e+03, 2.87496000e+05,\n",
       "        1.89747360e+07, 1.25233258e+09, 8.26539500e+10],\n",
       "       [1.00000000e+00, 6.70000000e+01, 4.48900000e+03, 3.00763000e+05,\n",
       "        2.01511210e+07, 1.35012511e+09, 9.04583822e+10],\n",
       "       [1.00000000e+00, 6.80000000e+01, 4.62400000e+03, 3.14432000e+05,\n",
       "        2.13813760e+07, 1.45393357e+09, 9.88674826e+10],\n",
       "       [1.00000000e+00, 6.90000000e+01, 4.76100000e+03, 3.28509000e+05,\n",
       "        2.26671210e+07, 1.56403135e+09, 1.07918163e+11],\n",
       "       [1.00000000e+00, 7.00000000e+01, 4.90000000e+03, 3.43000000e+05,\n",
       "        2.40100000e+07, 1.68070000e+09, 1.17649000e+11],\n",
       "       [1.00000000e+00, 7.10000000e+01, 5.04100000e+03, 3.57911000e+05,\n",
       "        2.54116810e+07, 1.80422935e+09, 1.28100284e+11],\n",
       "       [1.00000000e+00, 7.20000000e+01, 5.18400000e+03, 3.73248000e+05,\n",
       "        2.68738560e+07, 1.93491763e+09, 1.39314070e+11],\n",
       "       [1.00000000e+00, 7.30000000e+01, 5.32900000e+03, 3.89017000e+05,\n",
       "        2.83982410e+07, 2.07307159e+09, 1.51334226e+11],\n",
       "       [1.00000000e+00, 7.40000000e+01, 5.47600000e+03, 4.05224000e+05,\n",
       "        2.99865760e+07, 2.21900662e+09, 1.64206490e+11],\n",
       "       [1.00000000e+00, 7.50000000e+01, 5.62500000e+03, 4.21875000e+05,\n",
       "        3.16406250e+07, 2.37304688e+09, 1.77978516e+11],\n",
       "       [1.00000000e+00, 7.60000000e+01, 5.77600000e+03, 4.38976000e+05,\n",
       "        3.33621760e+07, 2.53552538e+09, 1.92699929e+11],\n",
       "       [1.00000000e+00, 7.70000000e+01, 5.92900000e+03, 4.56533000e+05,\n",
       "        3.51530410e+07, 2.70678416e+09, 2.08422380e+11],\n",
       "       [1.00000000e+00, 7.80000000e+01, 6.08400000e+03, 4.74552000e+05,\n",
       "        3.70150560e+07, 2.88717437e+09, 2.25199601e+11],\n",
       "       [1.00000000e+00, 7.90000000e+01, 6.24100000e+03, 4.93039000e+05,\n",
       "        3.89500810e+07, 3.07705640e+09, 2.43087456e+11],\n",
       "       [1.00000000e+00, 8.00000000e+01, 6.40000000e+03, 5.12000000e+05,\n",
       "        4.09600000e+07, 3.27680000e+09, 2.62144000e+11],\n",
       "       [1.00000000e+00, 8.10000000e+01, 6.56100000e+03, 5.31441000e+05,\n",
       "        4.30467210e+07, 3.48678440e+09, 2.82429536e+11],\n",
       "       [1.00000000e+00, 8.20000000e+01, 6.72400000e+03, 5.51368000e+05,\n",
       "        4.52121760e+07, 3.70739843e+09, 3.04006671e+11],\n",
       "       [1.00000000e+00, 8.30000000e+01, 6.88900000e+03, 5.71787000e+05,\n",
       "        4.74583210e+07, 3.93904064e+09, 3.26940373e+11],\n",
       "       [1.00000000e+00, 8.40000000e+01, 7.05600000e+03, 5.92704000e+05,\n",
       "        4.97871360e+07, 4.18211942e+09, 3.51298032e+11],\n",
       "       [1.00000000e+00, 8.50000000e+01, 7.22500000e+03, 6.14125000e+05,\n",
       "        5.22006250e+07, 4.43705312e+09, 3.77149516e+11],\n",
       "       [1.00000000e+00, 8.60000000e+01, 7.39600000e+03, 6.36056000e+05,\n",
       "        5.47008160e+07, 4.70427018e+09, 4.04567235e+11],\n",
       "       [1.00000000e+00, 8.70000000e+01, 7.56900000e+03, 6.58503000e+05,\n",
       "        5.72897610e+07, 4.98420921e+09, 4.33626201e+11],\n",
       "       [1.00000000e+00, 8.80000000e+01, 7.74400000e+03, 6.81472000e+05,\n",
       "        5.99695360e+07, 5.27731917e+09, 4.64404087e+11],\n",
       "       [1.00000000e+00, 8.90000000e+01, 7.92100000e+03, 7.04969000e+05,\n",
       "        6.27422410e+07, 5.58405945e+09, 4.96981291e+11],\n",
       "       [1.00000000e+00, 9.00000000e+01, 8.10000000e+03, 7.29000000e+05,\n",
       "        6.56100000e+07, 5.90490000e+09, 5.31441000e+11],\n",
       "       [1.00000000e+00, 9.10000000e+01, 8.28100000e+03, 7.53571000e+05,\n",
       "        6.85749610e+07, 6.24032145e+09, 5.67869252e+11],\n",
       "       [1.00000000e+00, 9.20000000e+01, 8.46400000e+03, 7.78688000e+05,\n",
       "        7.16392960e+07, 6.59081523e+09, 6.06355001e+11],\n",
       "       [1.00000000e+00, 9.30000000e+01, 8.64900000e+03, 8.04357000e+05,\n",
       "        7.48052010e+07, 6.95688369e+09, 6.46990183e+11],\n",
       "       [1.00000000e+00, 9.40000000e+01, 8.83600000e+03, 8.30584000e+05,\n",
       "        7.80748960e+07, 7.33904022e+09, 6.89869781e+11],\n",
       "       [1.00000000e+00, 9.50000000e+01, 9.02500000e+03, 8.57375000e+05,\n",
       "        8.14506250e+07, 7.73780938e+09, 7.35091891e+11],\n",
       "       [1.00000000e+00, 9.60000000e+01, 9.21600000e+03, 8.84736000e+05,\n",
       "        8.49346560e+07, 8.15372698e+09, 7.82757790e+11],\n",
       "       [1.00000000e+00, 9.70000000e+01, 9.40900000e+03, 9.12673000e+05,\n",
       "        8.85292810e+07, 8.58734026e+09, 8.32972005e+11],\n",
       "       [1.00000000e+00, 9.80000000e+01, 9.60400000e+03, 9.41192000e+05,\n",
       "        9.22368160e+07, 9.03920797e+09, 8.85842381e+11],\n",
       "       [1.00000000e+00, 9.90000000e+01, 9.80100000e+03, 9.70299000e+05,\n",
       "        9.60596010e+07, 9.50990050e+09, 9.41480149e+11],\n",
       "       [1.00000000e+00, 1.00000000e+02, 1.00000000e+04, 1.00000000e+06,\n",
       "        1.00000000e+08, 1.00000000e+10, 1.00000000e+12],\n",
       "       [1.00000000e+00, 1.01000000e+02, 1.02010000e+04, 1.03030100e+06,\n",
       "        1.04060401e+08, 1.05101005e+10, 1.06152015e+12],\n",
       "       [1.00000000e+00, 1.02000000e+02, 1.04040000e+04, 1.06120800e+06,\n",
       "        1.08243216e+08, 1.10408080e+10, 1.12616242e+12],\n",
       "       [1.00000000e+00, 1.03000000e+02, 1.06090000e+04, 1.09272700e+06,\n",
       "        1.12550881e+08, 1.15927407e+10, 1.19405230e+12],\n",
       "       [1.00000000e+00, 1.04000000e+02, 1.08160000e+04, 1.12486400e+06,\n",
       "        1.16985856e+08, 1.21665290e+10, 1.26531902e+12],\n",
       "       [1.00000000e+00, 1.05000000e+02, 1.10250000e+04, 1.15762500e+06,\n",
       "        1.21550625e+08, 1.27628156e+10, 1.34009564e+12],\n",
       "       [1.00000000e+00, 1.06000000e+02, 1.12360000e+04, 1.19101600e+06,\n",
       "        1.26247696e+08, 1.33822558e+10, 1.41851911e+12],\n",
       "       [1.00000000e+00, 1.07000000e+02, 1.14490000e+04, 1.22504300e+06,\n",
       "        1.31079601e+08, 1.40255173e+10, 1.50073035e+12],\n",
       "       [1.00000000e+00, 1.08000000e+02, 1.16640000e+04, 1.25971200e+06,\n",
       "        1.36048896e+08, 1.46932808e+10, 1.58687432e+12],\n",
       "       [1.00000000e+00, 1.09000000e+02, 1.18810000e+04, 1.29502900e+06,\n",
       "        1.41158161e+08, 1.53862395e+10, 1.67710011e+12],\n",
       "       [1.00000000e+00, 1.10000000e+02, 1.21000000e+04, 1.33100000e+06,\n",
       "        1.46410000e+08, 1.61051000e+10, 1.77156100e+12],\n",
       "       [1.00000000e+00, 1.11000000e+02, 1.23210000e+04, 1.36763100e+06,\n",
       "        1.51807041e+08, 1.68505816e+10, 1.87041455e+12],\n",
       "       [1.00000000e+00, 1.12000000e+02, 1.25440000e+04, 1.40492800e+06,\n",
       "        1.57351936e+08, 1.76234168e+10, 1.97382269e+12],\n",
       "       [1.00000000e+00, 1.13000000e+02, 1.27690000e+04, 1.44289700e+06,\n",
       "        1.63047361e+08, 1.84243518e+10, 2.08195175e+12],\n",
       "       [1.00000000e+00, 1.14000000e+02, 1.29960000e+04, 1.48154400e+06,\n",
       "        1.68896016e+08, 1.92541458e+10, 2.19497262e+12],\n",
       "       [1.00000000e+00, 1.15000000e+02, 1.32250000e+04, 1.52087500e+06,\n",
       "        1.74900625e+08, 2.01135719e+10, 2.31306077e+12],\n",
       "       [1.00000000e+00, 1.16000000e+02, 1.34560000e+04, 1.56089600e+06,\n",
       "        1.81063936e+08, 2.10034166e+10, 2.43639632e+12],\n",
       "       [1.00000000e+00, 1.17000000e+02, 1.36890000e+04, 1.60161300e+06,\n",
       "        1.87388721e+08, 2.19244804e+10, 2.56516420e+12],\n",
       "       [1.00000000e+00, 1.18000000e+02, 1.39240000e+04, 1.64303200e+06,\n",
       "        1.93877776e+08, 2.28775776e+10, 2.69955415e+12],\n",
       "       [1.00000000e+00, 1.19000000e+02, 1.41610000e+04, 1.68515900e+06,\n",
       "        2.00533921e+08, 2.38635366e+10, 2.83976086e+12],\n",
       "       [1.00000000e+00, 1.20000000e+02, 1.44000000e+04, 1.72800000e+06,\n",
       "        2.07360000e+08, 2.48832000e+10, 2.98598400e+12],\n",
       "       [1.00000000e+00, 1.21000000e+02, 1.46410000e+04, 1.77156100e+06,\n",
       "        2.14358881e+08, 2.59374246e+10, 3.13842838e+12],\n",
       "       [1.00000000e+00, 1.22000000e+02, 1.48840000e+04, 1.81584800e+06,\n",
       "        2.21533456e+08, 2.70270816e+10, 3.29730396e+12],\n",
       "       [1.00000000e+00, 1.23000000e+02, 1.51290000e+04, 1.86086700e+06,\n",
       "        2.28886641e+08, 2.81530568e+10, 3.46282599e+12],\n",
       "       [1.00000000e+00, 1.24000000e+02, 1.53760000e+04, 1.90662400e+06,\n",
       "        2.36421376e+08, 2.93162506e+10, 3.63521508e+12],\n",
       "       [1.00000000e+00, 1.25000000e+02, 1.56250000e+04, 1.95312500e+06,\n",
       "        2.44140625e+08, 3.05175781e+10, 3.81469727e+12],\n",
       "       [1.00000000e+00, 1.26000000e+02, 1.58760000e+04, 2.00037600e+06,\n",
       "        2.52047376e+08, 3.17579694e+10, 4.00150414e+12],\n",
       "       [1.00000000e+00, 1.27000000e+02, 1.61290000e+04, 2.04838300e+06,\n",
       "        2.60144641e+08, 3.30383694e+10, 4.19587291e+12],\n",
       "       [1.00000000e+00, 1.28000000e+02, 1.63840000e+04, 2.09715200e+06,\n",
       "        2.68435456e+08, 3.43597384e+10, 4.39804651e+12],\n",
       "       [1.00000000e+00, 1.29000000e+02, 1.66410000e+04, 2.14668900e+06,\n",
       "        2.76922881e+08, 3.57230516e+10, 4.60827366e+12],\n",
       "       [1.00000000e+00, 1.30000000e+02, 1.69000000e+04, 2.19700000e+06,\n",
       "        2.85610000e+08, 3.71293000e+10, 4.82680900e+12],\n",
       "       [1.00000000e+00, 1.31000000e+02, 1.71610000e+04, 2.24809100e+06,\n",
       "        2.94499921e+08, 3.85794897e+10, 5.05391314e+12],\n",
       "       [1.00000000e+00, 1.32000000e+02, 1.74240000e+04, 2.29996800e+06,\n",
       "        3.03595776e+08, 4.00746424e+10, 5.28985280e+12],\n",
       "       [1.00000000e+00, 1.33000000e+02, 1.76890000e+04, 2.35263700e+06,\n",
       "        3.12900721e+08, 4.16157959e+10, 5.53490085e+12]])"
      ]
     },
     "execution_count": 32,
     "metadata": {},
     "output_type": "execute_result"
    }
   ],
   "source": [
    "x"
   ]
  },
  {
   "cell_type": "code",
   "execution_count": 33,
   "id": "7006a3e9",
   "metadata": {},
   "outputs": [],
   "source": [
    "# training the data and preparing the model\n",
    "\n",
    "model=linear_model.LinearRegression()"
   ]
  },
  {
   "cell_type": "code",
   "execution_count": 35,
   "id": "2cc0641c",
   "metadata": {},
   "outputs": [],
   "source": [
    "model.fit(x,y)\n",
    "accuracy=model.score(x,y)"
   ]
  },
  {
   "cell_type": "code",
   "execution_count": 36,
   "id": "1f48a837",
   "metadata": {},
   "outputs": [
    {
     "name": "stdout",
     "output_type": "stream",
     "text": [
      "Accuracy:99.941%\n"
     ]
    }
   ],
   "source": [
    "print(f'Accuracy:{round(accuracy*100,3)}%')"
   ]
  },
  {
   "cell_type": "code",
   "execution_count": 37,
   "id": "6b4e1a1e",
   "metadata": {},
   "outputs": [
    {
     "data": {
      "image/png": "[encoded data removed]",
      "text/plain": [
       "<Figure size 640x480 with 1 Axes>"
      ]
     },
     "metadata": {},
     "output_type": "display_data"
    }
   ],
   "source": [
    "# plotting the test -model data\n",
    "\n",
    "y0=model.predict(x)\n",
    "plt.plot(y0,'--b')\n",
    "plt.show()"
   ]
  },
  {
   "cell_type": "code",
   "execution_count": 39,
   "id": "f8a86c5a",
   "metadata": {},
   "outputs": [
    {
     "data": {
      "image/png": "[encoded data removed]",
      "text/plain": [
       "<Figure size 640x480 with 1 Axes>"
      ]
     },
     "metadata": {},
     "output_type": "display_data"
    }
   ],
   "source": [
    "#compare model data with actual data\n",
    "\n",
    "plt.plot(y0,'--b') #y0 is predicted data \n",
    "plt.plot(y,'-m') #y is real data\n",
    "plt.show()"
   ]
  },
  {
   "cell_type": "code",
   "execution_count": 40,
   "id": "a70b8ce6",
   "metadata": {},
   "outputs": [],
   "source": [
    "#to find the number of cases for the (n) number of days // prediction"
   ]
  },
  {
   "cell_type": "code",
   "execution_count": 41,
   "id": "55653c15",
   "metadata": {},
   "outputs": [],
   "source": [
    "days = 3"
   ]
  },
  {
   "cell_type": "code",
   "execution_count": 42,
   "id": "6d23d154",
   "metadata": {},
   "outputs": [
    {
     "name": "stdout",
     "output_type": "stream",
     "text": [
      "Prediction - Case after 3 days =  "
     ]
    }
   ],
   "source": [
    "print(f'Prediction - Case after {days} days = ', end=' ')"
   ]
  },
  {
   "cell_type": "code",
   "execution_count": 43,
   "id": "ff0270fc",
   "metadata": {},
   "outputs": [
    {
     "name": "stdout",
     "output_type": "stream",
     "text": [
      "36163 lakhs\n"
     ]
    }
   ],
   "source": [
    "print(round(int(model.predict(Poly.fit_transform([[130 + days]])))),'lakhs')"
   ]
  },
  {
   "cell_type": "markdown",
   "id": "2db13f5e",
   "metadata": {},
   "source": [
    "# so in 133th day the precise cases are 36832 and we are gettinh 36163, difference being 669"
   ]
  },
  {
   "cell_type": "code",
   "execution_count": 45,
   "id": "622f4bbc",
   "metadata": {},
   "outputs": [],
   "source": [
    "x1=np.array(list(range(1,137+days))).reshape(-1,1)\n",
    "y1=model.predict(Poly.fit_transform(x1))"
   ]
  },
  {
   "cell_type": "code",
   "execution_count": 46,
   "id": "5ee94658",
   "metadata": {},
   "outputs": [
    {
     "data": {
      "text/plain": [
       "[<matplotlib.lines.Line2D at 0x28bbc18fbb0>]"
      ]
     },
     "execution_count": 46,
     "metadata": {},
     "output_type": "execute_result"
    },
    {
     "data": {
      "image/png": "[encoded data removed]",
      "text/plain": [
       "<Figure size 640x480 with 1 Axes>"
      ]
     },
     "metadata": {},
     "output_type": "display_data"
    }
   ],
   "source": [
    "plt.plot(y1,'--r')"
   ]
  },
  {
   "cell_type": "code",
   "execution_count": null,
   "id": "168337c0",
   "metadata": {},
   "outputs": [],
   "source": []
  }
 ],
 "metadata": {
  "kernelspec": {
   "display_name": "Python 3 (ipykernel)",
   "language": "python",
   "name": "python3"
  },
  "language_info": {
   "codemirror_mode": {
    "name": "ipython",
    "version": 3
   },
   "file_extension": ".py",
   "mimetype": "text/x-python",
   "name": "python",
   "nbconvert_exporter": "python",
   "pygments_lexer": "ipython3",
   "version": "3.10.9"
  }
 },
 "nbformat": 4,
 "nbformat_minor": 5
}
