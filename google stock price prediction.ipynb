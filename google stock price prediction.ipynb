{
 "cells": [
  {
   "cell_type": "code",
   "execution_count": 5,
   "id": "126b184b",
   "metadata": {},
   "outputs": [],
   "source": [
    "import numpy as np \n",
    "import pandas as pd \n",
    "import matplotlib.pyplot as plt \n",
    "from sklearn.preprocessing import MinMaxScaler\n",
    "from keras.models import Sequential\n",
    "from keras.layers import Dense,LSTM,Dropout"
   ]
  },
  {
   "cell_type": "code",
   "execution_count": 6,
   "id": "ac6e8381",
   "metadata": {},
   "outputs": [
    {
     "data": {
      "text/html": [
       "<div>\n",
       "<style scoped>\n",
       "    .dataframe tbody tr th:only-of-type {\n",
       "        vertical-align: middle;\n",
       "    }\n",
       "\n",
       "    .dataframe tbody tr th {\n",
       "        vertical-align: top;\n",
       "    }\n",
       "\n",
       "    .dataframe thead th {\n",
       "        text-align: right;\n",
       "    }\n",
       "</style>\n",
       "<table border=\"1\" class=\"dataframe\">\n",
       "  <thead>\n",
       "    <tr style=\"text-align: right;\">\n",
       "      <th></th>\n",
       "      <th>Date</th>\n",
       "      <th>Open</th>\n",
       "      <th>High</th>\n",
       "      <th>Low</th>\n",
       "      <th>Close</th>\n",
       "      <th>Volume</th>\n",
       "    </tr>\n",
       "  </thead>\n",
       "  <tbody>\n",
       "    <tr>\n",
       "      <th>0</th>\n",
       "      <td>1/3/2012</td>\n",
       "      <td>325.25</td>\n",
       "      <td>332.83</td>\n",
       "      <td>324.97</td>\n",
       "      <td>663.59</td>\n",
       "      <td>7,380,500</td>\n",
       "    </tr>\n",
       "    <tr>\n",
       "      <th>1</th>\n",
       "      <td>1/4/2012</td>\n",
       "      <td>331.27</td>\n",
       "      <td>333.87</td>\n",
       "      <td>329.08</td>\n",
       "      <td>666.45</td>\n",
       "      <td>5,749,400</td>\n",
       "    </tr>\n",
       "    <tr>\n",
       "      <th>2</th>\n",
       "      <td>1/5/2012</td>\n",
       "      <td>329.83</td>\n",
       "      <td>330.75</td>\n",
       "      <td>326.89</td>\n",
       "      <td>657.21</td>\n",
       "      <td>6,590,300</td>\n",
       "    </tr>\n",
       "    <tr>\n",
       "      <th>3</th>\n",
       "      <td>1/6/2012</td>\n",
       "      <td>328.34</td>\n",
       "      <td>328.77</td>\n",
       "      <td>323.68</td>\n",
       "      <td>648.24</td>\n",
       "      <td>5,405,900</td>\n",
       "    </tr>\n",
       "    <tr>\n",
       "      <th>4</th>\n",
       "      <td>1/9/2012</td>\n",
       "      <td>322.04</td>\n",
       "      <td>322.29</td>\n",
       "      <td>309.46</td>\n",
       "      <td>620.76</td>\n",
       "      <td>11,688,800</td>\n",
       "    </tr>\n",
       "  </tbody>\n",
       "</table>\n",
       "</div>"
      ],
      "text/plain": [
       "       Date    Open    High     Low   Close      Volume\n",
       "0  1/3/2012  325.25  332.83  324.97  663.59   7,380,500\n",
       "1  1/4/2012  331.27  333.87  329.08  666.45   5,749,400\n",
       "2  1/5/2012  329.83  330.75  326.89  657.21   6,590,300\n",
       "3  1/6/2012  328.34  328.77  323.68  648.24   5,405,900\n",
       "4  1/9/2012  322.04  322.29  309.46  620.76  11,688,800"
      ]
     },
     "execution_count": 6,
     "metadata": {},
     "output_type": "execute_result"
    }
   ],
   "source": [
    "data = pd.read_csv('Google_train_data.csv')\n",
    "data.head()"
   ]
  },
  {
   "cell_type": "code",
   "execution_count": 7,
   "id": "839a90c2",
   "metadata": {},
   "outputs": [
    {
     "name": "stdout",
     "output_type": "stream",
     "text": [
      "<class 'pandas.core.frame.DataFrame'>\n",
      "RangeIndex: 1258 entries, 0 to 1257\n",
      "Data columns (total 6 columns):\n",
      " #   Column  Non-Null Count  Dtype  \n",
      "---  ------  --------------  -----  \n",
      " 0   Date    1258 non-null   object \n",
      " 1   Open    1258 non-null   float64\n",
      " 2   High    1258 non-null   float64\n",
      " 3   Low     1258 non-null   float64\n",
      " 4   Close   1258 non-null   object \n",
      " 5   Volume  1258 non-null   object \n",
      "dtypes: float64(3), object(3)\n",
      "memory usage: 59.1+ KB\n"
     ]
    }
   ],
   "source": [
    "data.info()"
   ]
  },
  {
   "cell_type": "code",
   "execution_count": 8,
   "id": "9535abde",
   "metadata": {},
   "outputs": [],
   "source": [
    "data[\"Close\"]=pd.to_numeric(data.Close,errors='coerce')\n",
    "data = data.dropna()\n",
    "trainData = data.iloc[:,4:5].values"
   ]
  },
  {
   "cell_type": "code",
   "execution_count": 9,
   "id": "0d2eb58a",
   "metadata": {},
   "outputs": [
    {
     "name": "stdout",
     "output_type": "stream",
     "text": [
      "<class 'pandas.core.frame.DataFrame'>\n",
      "Int64Index: 1149 entries, 0 to 1257\n",
      "Data columns (total 6 columns):\n",
      " #   Column  Non-Null Count  Dtype  \n",
      "---  ------  --------------  -----  \n",
      " 0   Date    1149 non-null   object \n",
      " 1   Open    1149 non-null   float64\n",
      " 2   High    1149 non-null   float64\n",
      " 3   Low     1149 non-null   float64\n",
      " 4   Close   1149 non-null   float64\n",
      " 5   Volume  1149 non-null   object \n",
      "dtypes: float64(4), object(2)\n",
      "memory usage: 62.8+ KB\n"
     ]
    }
   ],
   "source": [
    "data.info()"
   ]
  },
  {
   "cell_type": "code",
   "execution_count": 10,
   "id": "a9bd5a29",
   "metadata": {},
   "outputs": [
    {
     "data": {
      "text/plain": [
       "(1149, 1)"
      ]
     },
     "execution_count": 10,
     "metadata": {},
     "output_type": "execute_result"
    }
   ],
   "source": [
    "sc = MinMaxScaler(feature_range=(0,1))\n",
    "trainData = sc.fit_transform(trainData)\n",
    "trainData.shape"
   ]
  },
  {
   "cell_type": "code",
   "execution_count": 11,
   "id": "7d6b1181",
   "metadata": {},
   "outputs": [],
   "source": [
    "X_train = []\n",
    "y_train = []\n",
    "\n",
    "for i in range (60,1149): #60 : timestep // 1149 : length of the data\n",
    "    X_train.append(trainData[i-60:i,0]) \n",
    "    y_train.append(trainData[i,0])\n",
    "\n",
    "X_train,y_train = np.array(X_train),np.array(y_train)"
   ]
  },
  {
   "cell_type": "code",
   "execution_count": 12,
   "id": "4e869bad",
   "metadata": {},
   "outputs": [
    {
     "data": {
      "text/plain": [
       "(1089, 60, 1)"
      ]
     },
     "execution_count": 12,
     "metadata": {},
     "output_type": "execute_result"
    }
   ],
   "source": [
    "X_train = np.reshape(X_train,(X_train.shape[0],X_train.shape[1],1)) #adding the batch_size axis\n",
    "X_train.shape"
   ]
  },
  {
   "cell_type": "code",
   "execution_count": 13,
   "id": "2fcb8a03",
   "metadata": {},
   "outputs": [],
   "source": [
    "model = Sequential()\n",
    "\n",
    "model.add(LSTM(units=100, return_sequences = True, input_shape =(X_train.shape[1],1)))\n",
    "model.add(Dropout(0.2))\n",
    "\n",
    "model.add(LSTM(units=100, return_sequences = True))\n",
    "model.add(Dropout(0.2))\n",
    "\n",
    "model.add(LSTM(units=100, return_sequences = True))\n",
    "model.add(Dropout(0.2))\n",
    "\n",
    "model.add(LSTM(units=100, return_sequences = False))\n",
    "model.add(Dropout(0.2))\n",
    "\n",
    "model.add(Dense(units =1))\n",
    "model.compile(optimizer='adam',loss=\"mean_squared_error\")"
   ]
  },
  {
   "cell_type": "code",
   "execution_count": 14,
   "id": "bc803494",
   "metadata": {},
   "outputs": [
    {
     "name": "stdout",
     "output_type": "stream",
     "text": [
      "Epoch 1/20\n",
      "35/35 - 36s - loss: 0.0427 - 36s/epoch - 1s/step\n",
      "Epoch 2/20\n",
      "35/35 - 14s - loss: 0.0125 - 14s/epoch - 401ms/step\n",
      "Epoch 3/20\n",
      "35/35 - 15s - loss: 0.0098 - 15s/epoch - 419ms/step\n",
      "Epoch 4/20\n",
      "35/35 - 14s - loss: 0.0095 - 14s/epoch - 386ms/step\n",
      "Epoch 5/20\n",
      "35/35 - 14s - loss: 0.0076 - 14s/epoch - 387ms/step\n",
      "Epoch 6/20\n",
      "35/35 - 13s - loss: 0.0070 - 13s/epoch - 385ms/step\n",
      "Epoch 7/20\n",
      "35/35 - 14s - loss: 0.0077 - 14s/epoch - 393ms/step\n",
      "Epoch 8/20\n",
      "35/35 - 13s - loss: 0.0095 - 13s/epoch - 383ms/step\n",
      "Epoch 9/20\n",
      "35/35 - 13s - loss: 0.0074 - 13s/epoch - 385ms/step\n",
      "Epoch 10/20\n",
      "35/35 - 14s - loss: 0.0064 - 14s/epoch - 387ms/step\n",
      "Epoch 11/20\n",
      "35/35 - 13s - loss: 0.0064 - 13s/epoch - 380ms/step\n",
      "Epoch 12/20\n",
      "35/35 - 14s - loss: 0.0066 - 14s/epoch - 401ms/step\n",
      "Epoch 13/20\n",
      "35/35 - 14s - loss: 0.0056 - 14s/epoch - 398ms/step\n",
      "Epoch 14/20\n",
      "35/35 - 14s - loss: 0.0054 - 14s/epoch - 393ms/step\n",
      "Epoch 15/20\n",
      "35/35 - 14s - loss: 0.0053 - 14s/epoch - 389ms/step\n",
      "Epoch 16/20\n",
      "35/35 - 14s - loss: 0.0076 - 14s/epoch - 393ms/step\n",
      "Epoch 17/20\n",
      "35/35 - 14s - loss: 0.0054 - 14s/epoch - 390ms/step\n",
      "Epoch 18/20\n",
      "35/35 - 14s - loss: 0.0054 - 14s/epoch - 397ms/step\n",
      "Epoch 19/20\n",
      "35/35 - 14s - loss: 0.0046 - 14s/epoch - 388ms/step\n",
      "Epoch 20/20\n",
      "35/35 - 14s - loss: 0.0048 - 14s/epoch - 391ms/step\n"
     ]
    }
   ],
   "source": [
    "hist = model.fit(X_train, y_train, epochs = 20, batch_size = 32, verbose=2)"
   ]
  },
  {
   "cell_type": "code",
   "execution_count": 15,
   "id": "3293460d",
   "metadata": {},
   "outputs": [
    {
     "data": {
      "image/png": "[encoded data removed]",
      "text/plain": [
       "<Figure size 640x480 with 1 Axes>"
      ]
     },
     "metadata": {},
     "output_type": "display_data"
    }
   ],
   "source": [
    "plt.plot(hist.history['loss'])\n",
    "plt.title('Training model loss')\n",
    "plt.ylabel('loss')\n",
    "plt.xlabel('epoch')\n",
    "plt.legend(['train'], loc='upper left')\n",
    "plt.show()"
   ]
  },
  {
   "cell_type": "code",
   "execution_count": 16,
   "id": "e97e9013",
   "metadata": {},
   "outputs": [
    {
     "data": {
      "text/plain": [
       "(192, 60, 1)"
      ]
     },
     "execution_count": 16,
     "metadata": {},
     "output_type": "execute_result"
    }
   ],
   "source": [
    "testData = pd.read_csv('Google_test_data.csv')\n",
    "testData[\"Close\"]=pd.to_numeric(testData.Close,errors='coerce')\n",
    "testData = testData.dropna()\n",
    "testData = testData.iloc[:,4:5]\n",
    "y_test = testData.iloc[60:,0:].values \n",
    "#input array for the model\n",
    "inputClosing = testData.iloc[:,0:].values \n",
    "inputClosing_scaled = sc.transform(inputClosing)\n",
    "inputClosing_scaled.shape\n",
    "X_test = []\n",
    "length = len(testData)\n",
    "timestep = 60\n",
    "for i in range(timestep,length):  \n",
    "    X_test.append(inputClosing_scaled[i-timestep:i,0])\n",
    "X_test = np.array(X_test)\n",
    "X_test = np.reshape(X_test,(X_test.shape[0],X_test.shape[1],1))\n",
    "X_test.shape"
   ]
  },
  {
   "cell_type": "code",
   "execution_count": 17,
   "id": "b692868f",
   "metadata": {},
   "outputs": [
    {
     "name": "stdout",
     "output_type": "stream",
     "text": [
      "6/6 [==============================] - 6s 126ms/step\n"
     ]
    },
    {
     "data": {
      "text/plain": [
       "array([[1.1430693],\n",
       "       [1.1472425],\n",
       "       [1.1591519],\n",
       "       [1.1768531],\n",
       "       [1.1923375],\n",
       "       [1.1954038],\n",
       "       [1.1849482],\n",
       "       [1.1675589],\n",
       "       [1.1540723],\n",
       "       [1.1481869],\n",
       "       [1.1406817],\n",
       "       [1.1298134],\n",
       "       [1.1197271],\n",
       "       [1.1104066],\n",
       "       [1.1075006],\n",
       "       [1.1111825],\n",
       "       [1.1278105],\n",
       "       [1.1555504],\n",
       "       [1.1888323],\n",
       "       [1.2229325],\n",
       "       [1.2400804],\n",
       "       [1.2401595],\n",
       "       [1.2217536],\n",
       "       [1.1921909],\n",
       "       [1.1629319],\n",
       "       [1.1433866],\n",
       "       [1.1356474],\n",
       "       [1.1334502],\n",
       "       [1.1274309],\n",
       "       [1.1182777],\n",
       "       [1.1075995],\n",
       "       [1.0950584],\n",
       "       [1.0763963],\n",
       "       [1.0528306],\n",
       "       [1.0410173],\n",
       "       [1.0473344],\n",
       "       [1.0673211],\n",
       "       [1.0927699],\n",
       "       [1.1184788],\n",
       "       [1.1340928],\n",
       "       [1.1480668],\n",
       "       [1.1632196],\n",
       "       [1.1801497],\n",
       "       [1.19613  ],\n",
       "       [1.2073941],\n",
       "       [1.2095829],\n",
       "       [1.200549 ],\n",
       "       [1.190451 ],\n",
       "       [1.1854625],\n",
       "       [1.1885033],\n",
       "       [1.1995088],\n",
       "       [1.2087461],\n",
       "       [1.2127314],\n",
       "       [1.211161 ],\n",
       "       [1.2095728],\n",
       "       [1.2058475],\n",
       "       [1.1977822],\n",
       "       [1.1926454],\n",
       "       [1.1990888],\n",
       "       [1.2152944],\n",
       "       [1.2404648],\n",
       "       [1.2719891],\n",
       "       [1.2965212],\n",
       "       [1.3042634],\n",
       "       [1.2951255],\n",
       "       [1.2753866],\n",
       "       [1.2584448],\n",
       "       [1.2497537],\n",
       "       [1.2496185],\n",
       "       [1.253469 ],\n",
       "       [1.2589314],\n",
       "       [1.2631536],\n",
       "       [1.2613198],\n",
       "       [1.2567124],\n",
       "       [1.2519596],\n",
       "       [1.2498695],\n",
       "       [1.2510961],\n",
       "       [1.255556 ],\n",
       "       [1.2665265],\n",
       "       [1.2838309],\n",
       "       [1.3068056],\n",
       "       [1.3299274],\n",
       "       [1.3448539],\n",
       "       [1.3489444],\n",
       "       [1.352015 ],\n",
       "       [1.3617804],\n",
       "       [1.3774638],\n",
       "       [1.3925836],\n",
       "       [1.4024401],\n",
       "       [1.4056038],\n",
       "       [1.4067065],\n",
       "       [1.4138838],\n",
       "       [1.42885  ],\n",
       "       [1.4409441],\n",
       "       [1.4421535],\n",
       "       [1.4308537],\n",
       "       [1.4090103],\n",
       "       [1.3820484],\n",
       "       [1.357652 ],\n",
       "       [1.3455217],\n",
       "       [1.3482442],\n",
       "       [1.3631645],\n",
       "       [1.3861364],\n",
       "       [1.4087842],\n",
       "       [1.4248741],\n",
       "       [1.43097  ],\n",
       "       [1.429671 ],\n",
       "       [1.4250109],\n",
       "       [1.4230846],\n",
       "       [1.4259348],\n",
       "       [1.433585 ],\n",
       "       [1.4456705],\n",
       "       [1.4590569],\n",
       "       [1.4735904],\n",
       "       [1.4909909],\n",
       "       [1.5063939],\n",
       "       [1.5183635],\n",
       "       [1.5280304],\n",
       "       [1.5390044],\n",
       "       [1.5243452],\n",
       "       [1.4796643],\n",
       "       [1.4180018],\n",
       "       [1.3622899],\n",
       "       [1.3258069],\n",
       "       [1.3077141],\n",
       "       [1.3023759],\n",
       "       [1.3041288],\n",
       "       [1.309897 ],\n",
       "       [1.3100201],\n",
       "       [1.3006263],\n",
       "       [1.2952517],\n",
       "       [1.3025694],\n",
       "       [1.3173742],\n",
       "       [1.3279757],\n",
       "       [1.332742 ],\n",
       "       [1.3332973],\n",
       "       [1.3291934],\n",
       "       [1.3203832],\n",
       "       [1.3093826],\n",
       "       [1.2949204],\n",
       "       [1.2794188],\n",
       "       [1.2626376],\n",
       "       [1.2316713],\n",
       "       [1.1930687],\n",
       "       [1.1539936],\n",
       "       [1.1219604],\n",
       "       [1.1056931],\n",
       "       [1.1091279],\n",
       "       [1.1279385],\n",
       "       [1.1539652],\n",
       "       [1.1821204],\n",
       "       [1.2067899],\n",
       "       [1.2261267],\n",
       "       [1.2416719],\n",
       "       [1.2532775],\n",
       "       [1.2625542],\n",
       "       [1.2718914],\n",
       "       [1.2794194],\n",
       "       [1.2770984],\n",
       "       [1.2632358],\n",
       "       [1.2413208],\n",
       "       [1.218404 ],\n",
       "       [1.2033882],\n",
       "       [1.2016889],\n",
       "       [1.2138218],\n",
       "       [1.2368209],\n",
       "       [1.2605135],\n",
       "       [1.2800937],\n",
       "       [1.2967659],\n",
       "       [1.3111362],\n",
       "       [1.3225296],\n",
       "       [1.3312763],\n",
       "       [1.3377903],\n",
       "       [1.3401484],\n",
       "       [1.3382652],\n",
       "       [1.3295763],\n",
       "       [1.3177843],\n",
       "       [1.3083266],\n",
       "       [1.3014545],\n",
       "       [1.2956623],\n",
       "       [1.3181357],\n",
       "       [1.3665881],\n",
       "       [1.4222434],\n",
       "       [1.4663922],\n",
       "       [1.4887388],\n",
       "       [1.4864099],\n",
       "       [1.4561229],\n",
       "       [1.4133239],\n",
       "       [1.3728313],\n",
       "       [1.3504881],\n",
       "       [1.344475 ],\n",
       "       [1.3461491]], dtype=float32)"
      ]
     },
     "execution_count": 17,
     "metadata": {},
     "output_type": "execute_result"
    }
   ],
   "source": [
    "y_pred = model.predict(X_test)\n",
    "y_pred"
   ]
  },
  {
   "cell_type": "code",
   "execution_count": 18,
   "id": "799adda4",
   "metadata": {},
   "outputs": [],
   "source": [
    "predicted_price = sc.inverse_transform(y_pred)"
   ]
  },
  {
   "cell_type": "code",
   "execution_count": 19,
   "id": "c1471172",
   "metadata": {},
   "outputs": [
    {
     "data": {
      "image/png": "[encoded data removed]",
      "text/plain": [
       "<Figure size 640x480 with 1 Axes>"
      ]
     },
     "metadata": {},
     "output_type": "display_data"
    }
   ],
   "source": [
    "plt.plot(y_test, color = 'red', label = 'Actual Stock Price')\n",
    "plt.plot(predicted_price, color = 'green', label = 'Predicted Stock Price')\n",
    "plt.title('Google stock price prediction')\n",
    "plt.xlabel('Time')\n",
    "plt.ylabel('Stock Price')\n",
    "plt.legend()\n",
    "plt.show()"
   ]
  },
  {
   "cell_type": "code",
   "execution_count": null,
   "id": "1fad53dc",
   "metadata": {},
   "outputs": [],
   "source": []
  }
 ],
 "metadata": {
  "kernelspec": {
   "display_name": "Python 3 (ipykernel)",
   "language": "python",
   "name": "python3"
  },
  "language_info": {
   "codemirror_mode": {
    "name": "ipython",
    "version": 3
   },
   "file_extension": ".py",
   "mimetype": "text/x-python",
   "name": "python",
   "nbconvert_exporter": "python",
   "pygments_lexer": "ipython3",
   "version": "3.10.9"
  }
 },
 "nbformat": 4,
 "nbformat_minor": 5
}
